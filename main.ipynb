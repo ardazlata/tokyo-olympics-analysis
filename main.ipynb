{
 "cells": [
  {
   "cell_type": "markdown",
   "source": [
    "## Practical Statistics for Data Scientists\n",
    "Data: kaggle.com/arjunprasadsarkhel/2021-olympics-in-tokyo"
   ],
   "metadata": {
    "collapsed": false
   },
   "id": "1e98a72bd7a4c57"
  },
  {
   "cell_type": "code",
   "execution_count": 1,
   "id": "initial_id",
   "metadata": {
    "collapsed": true,
    "ExecuteTime": {
     "end_time": "2023-09-13T21:27:52.763487700Z",
     "start_time": "2023-09-13T21:27:51.932309600Z"
    }
   },
   "outputs": [],
   "source": [
    "import pandas as pd\n",
    "import numpy as np"
   ]
  },
  {
   "cell_type": "code",
   "execution_count": 2,
   "outputs": [
    {
     "name": "stderr",
     "output_type": "stream",
     "text": [
      "C:\\Users\\ardaz\\anaconda3\\envs\\TokyOlimpicsDataset\\Lib\\site-packages\\openpyxl\\styles\\stylesheet.py:226: UserWarning: Workbook contains no default style, apply openpyxl's default\n",
      "  warn(\"Workbook contains no default style, apply openpyxl's default\")\n"
     ]
    },
    {
     "data": {
      "text/plain": "    Rank                    Team/NOC  Gold  Silver  Bronze  Total  \\\n0      1    United States of America    39      41      33    113   \n1      2  People's Republic of China    38      32      18     88   \n2      3                       Japan    27      14      17     58   \n3      4               Great Britain    22      21      22     65   \n4      5                         ROC    20      28      23     71   \n..   ...                         ...   ...     ...     ...    ...   \n88    86                       Ghana     0       0       1      1   \n89    86                     Grenada     0       0       1      1   \n90    86                      Kuwait     0       0       1      1   \n91    86         Republic of Moldova     0       0       1      1   \n92    86        Syrian Arab Republic     0       0       1      1   \n\n    Rank by Total  \n0               1  \n1               2  \n2               5  \n3               4  \n4               3  \n..            ...  \n88             77  \n89             77  \n90             77  \n91             77  \n92             77  \n\n[93 rows x 7 columns]",
      "text/html": "<div>\n<style scoped>\n    .dataframe tbody tr th:only-of-type {\n        vertical-align: middle;\n    }\n\n    .dataframe tbody tr th {\n        vertical-align: top;\n    }\n\n    .dataframe thead th {\n        text-align: right;\n    }\n</style>\n<table border=\"1\" class=\"dataframe\">\n  <thead>\n    <tr style=\"text-align: right;\">\n      <th></th>\n      <th>Rank</th>\n      <th>Team/NOC</th>\n      <th>Gold</th>\n      <th>Silver</th>\n      <th>Bronze</th>\n      <th>Total</th>\n      <th>Rank by Total</th>\n    </tr>\n  </thead>\n  <tbody>\n    <tr>\n      <th>0</th>\n      <td>1</td>\n      <td>United States of America</td>\n      <td>39</td>\n      <td>41</td>\n      <td>33</td>\n      <td>113</td>\n      <td>1</td>\n    </tr>\n    <tr>\n      <th>1</th>\n      <td>2</td>\n      <td>People's Republic of China</td>\n      <td>38</td>\n      <td>32</td>\n      <td>18</td>\n      <td>88</td>\n      <td>2</td>\n    </tr>\n    <tr>\n      <th>2</th>\n      <td>3</td>\n      <td>Japan</td>\n      <td>27</td>\n      <td>14</td>\n      <td>17</td>\n      <td>58</td>\n      <td>5</td>\n    </tr>\n    <tr>\n      <th>3</th>\n      <td>4</td>\n      <td>Great Britain</td>\n      <td>22</td>\n      <td>21</td>\n      <td>22</td>\n      <td>65</td>\n      <td>4</td>\n    </tr>\n    <tr>\n      <th>4</th>\n      <td>5</td>\n      <td>ROC</td>\n      <td>20</td>\n      <td>28</td>\n      <td>23</td>\n      <td>71</td>\n      <td>3</td>\n    </tr>\n    <tr>\n      <th>...</th>\n      <td>...</td>\n      <td>...</td>\n      <td>...</td>\n      <td>...</td>\n      <td>...</td>\n      <td>...</td>\n      <td>...</td>\n    </tr>\n    <tr>\n      <th>88</th>\n      <td>86</td>\n      <td>Ghana</td>\n      <td>0</td>\n      <td>0</td>\n      <td>1</td>\n      <td>1</td>\n      <td>77</td>\n    </tr>\n    <tr>\n      <th>89</th>\n      <td>86</td>\n      <td>Grenada</td>\n      <td>0</td>\n      <td>0</td>\n      <td>1</td>\n      <td>1</td>\n      <td>77</td>\n    </tr>\n    <tr>\n      <th>90</th>\n      <td>86</td>\n      <td>Kuwait</td>\n      <td>0</td>\n      <td>0</td>\n      <td>1</td>\n      <td>1</td>\n      <td>77</td>\n    </tr>\n    <tr>\n      <th>91</th>\n      <td>86</td>\n      <td>Republic of Moldova</td>\n      <td>0</td>\n      <td>0</td>\n      <td>1</td>\n      <td>1</td>\n      <td>77</td>\n    </tr>\n    <tr>\n      <th>92</th>\n      <td>86</td>\n      <td>Syrian Arab Republic</td>\n      <td>0</td>\n      <td>0</td>\n      <td>1</td>\n      <td>1</td>\n      <td>77</td>\n    </tr>\n  </tbody>\n</table>\n<p>93 rows × 7 columns</p>\n</div>"
     },
     "execution_count": 2,
     "metadata": {},
     "output_type": "execute_result"
    }
   ],
   "source": [
    "medal_count = pd.read_excel('Medals.xlsx')\n",
    "medal_count"
   ],
   "metadata": {
    "collapsed": false,
    "ExecuteTime": {
     "end_time": "2023-09-13T21:27:53.163833700Z",
     "start_time": "2023-09-13T21:27:52.763487700Z"
    }
   },
   "id": "e05a29acc2796cc6"
  },
  {
   "cell_type": "markdown",
   "source": [
    "# Estimates of Location"
   ],
   "metadata": {
    "collapsed": false
   },
   "id": "30c4dcbe0b9e243b"
  },
  {
   "cell_type": "code",
   "execution_count": 3,
   "outputs": [
    {
     "data": {
      "text/plain": "11.612903225806452"
     },
     "execution_count": 3,
     "metadata": {},
     "output_type": "execute_result"
    }
   ],
   "source": [
    "# Mean\n",
    "\n",
    "medal_count['Total'].mean()"
   ],
   "metadata": {
    "collapsed": false,
    "ExecuteTime": {
     "end_time": "2023-09-13T21:27:53.175691700Z",
     "start_time": "2023-09-13T21:27:53.172087900Z"
    }
   },
   "id": "5f6ca854ac0f544b"
  },
  {
   "cell_type": "code",
   "execution_count": 4,
   "outputs": [
    {
     "data": {
      "text/plain": "46.832352941176474"
     },
     "execution_count": 4,
     "metadata": {},
     "output_type": "execute_result"
    }
   ],
   "source": [
    "# Weighted Mean\n",
    "np.average(medal_count['Total'], weights=medal_count['Gold'])"
   ],
   "metadata": {
    "collapsed": false,
    "ExecuteTime": {
     "end_time": "2023-09-13T21:27:53.189133Z",
     "start_time": "2023-09-13T21:27:53.176698300Z"
    }
   },
   "id": "f3877f7edd4659d2"
  },
  {
   "cell_type": "code",
   "execution_count": 5,
   "outputs": [
    {
     "data": {
      "text/plain": "6.8933333333333335"
     },
     "execution_count": 5,
     "metadata": {},
     "output_type": "execute_result"
    }
   ],
   "source": [
    "# Trimmed Mean\n",
    "\n",
    "from scipy.stats import trim_mean\n",
    "trim_mean(medal_count['Total'], 0.1)"
   ],
   "metadata": {
    "collapsed": false,
    "ExecuteTime": {
     "end_time": "2023-09-13T21:27:54.054769300Z",
     "start_time": "2023-09-13T21:27:53.186295500Z"
    }
   },
   "id": "79985a56f15d97fc"
  },
  {
   "cell_type": "code",
   "execution_count": 6,
   "outputs": [
    {
     "data": {
      "text/plain": "4.0"
     },
     "execution_count": 6,
     "metadata": {},
     "output_type": "execute_result"
    }
   ],
   "source": [
    "# Median\n",
    "\n",
    "medal_count['Total'].median()"
   ],
   "metadata": {
    "collapsed": false,
    "ExecuteTime": {
     "end_time": "2023-09-13T21:27:54.062769Z",
     "start_time": "2023-09-13T21:27:54.054769300Z"
    }
   },
   "id": "b0d1bffa591765ba"
  },
  {
   "cell_type": "code",
   "execution_count": 12,
   "outputs": [],
   "source": [
    "# Weighted Median: not available in pandas or NumPy"
   ],
   "metadata": {
    "collapsed": false,
    "ExecuteTime": {
     "end_time": "2023-09-13T21:33:50.235153400Z",
     "start_time": "2023-09-13T21:33:50.235153400Z"
    }
   },
   "id": "8d3865b9f7603201"
  },
  {
   "cell_type": "code",
   "execution_count": 13,
   "outputs": [
    {
     "data": {
      "text/plain": "11.0"
     },
     "execution_count": 13,
     "metadata": {},
     "output_type": "execute_result"
    }
   ],
   "source": [
    "# Percentile: Veri dizilerinin yüzdelik dilimlerini hesaplamak için kullanılır.\n",
    "\n",
    "q3 = np.percentile(medal_count['Total'], 75)\n",
    "q3"
   ],
   "metadata": {
    "collapsed": false,
    "ExecuteTime": {
     "end_time": "2023-09-13T21:37:00.657850400Z",
     "start_time": "2023-09-13T21:37:00.624952Z"
    }
   },
   "id": "d49fb96be5bd0051"
  },
  {
   "cell_type": "code",
   "execution_count": null,
   "outputs": [],
   "source": [
    "# Robust Statistics: Aykırı değerlerden etkilenmeyen istatistiklerdir. Aykırı değerlerin etkisini azaltmak için kullanılır. Trimmed Mean ile yakından ilişkilidir."
   ],
   "metadata": {
    "collapsed": false
   },
   "id": "1f0d90f35b04d607"
  },
  {
   "cell_type": "code",
   "execution_count": 14,
   "outputs": [
    {
     "data": {
      "text/plain": "            Rank       Gold     Silver     Bronze       Total  Rank by Total\ncount  93.000000  93.000000  93.000000  93.000000   93.000000      93.000000\nmean   46.333333   3.655914   3.634409   4.322581   11.612903      43.494624\nstd    26.219116   7.022471   6.626339   6.210372   19.091332      24.171769\nmin     1.000000   0.000000   0.000000   0.000000    1.000000       1.000000\n25%    24.000000   0.000000   0.000000   1.000000    2.000000      23.000000\n50%    46.000000   1.000000   1.000000   2.000000    4.000000      47.000000\n75%    70.000000   3.000000   4.000000   5.000000   11.000000      66.000000\nmax    86.000000  39.000000  41.000000  33.000000  113.000000      77.000000",
      "text/html": "<div>\n<style scoped>\n    .dataframe tbody tr th:only-of-type {\n        vertical-align: middle;\n    }\n\n    .dataframe tbody tr th {\n        vertical-align: top;\n    }\n\n    .dataframe thead th {\n        text-align: right;\n    }\n</style>\n<table border=\"1\" class=\"dataframe\">\n  <thead>\n    <tr style=\"text-align: right;\">\n      <th></th>\n      <th>Rank</th>\n      <th>Gold</th>\n      <th>Silver</th>\n      <th>Bronze</th>\n      <th>Total</th>\n      <th>Rank by Total</th>\n    </tr>\n  </thead>\n  <tbody>\n    <tr>\n      <th>count</th>\n      <td>93.000000</td>\n      <td>93.000000</td>\n      <td>93.000000</td>\n      <td>93.000000</td>\n      <td>93.000000</td>\n      <td>93.000000</td>\n    </tr>\n    <tr>\n      <th>mean</th>\n      <td>46.333333</td>\n      <td>3.655914</td>\n      <td>3.634409</td>\n      <td>4.322581</td>\n      <td>11.612903</td>\n      <td>43.494624</td>\n    </tr>\n    <tr>\n      <th>std</th>\n      <td>26.219116</td>\n      <td>7.022471</td>\n      <td>6.626339</td>\n      <td>6.210372</td>\n      <td>19.091332</td>\n      <td>24.171769</td>\n    </tr>\n    <tr>\n      <th>min</th>\n      <td>1.000000</td>\n      <td>0.000000</td>\n      <td>0.000000</td>\n      <td>0.000000</td>\n      <td>1.000000</td>\n      <td>1.000000</td>\n    </tr>\n    <tr>\n      <th>25%</th>\n      <td>24.000000</td>\n      <td>0.000000</td>\n      <td>0.000000</td>\n      <td>1.000000</td>\n      <td>2.000000</td>\n      <td>23.000000</td>\n    </tr>\n    <tr>\n      <th>50%</th>\n      <td>46.000000</td>\n      <td>1.000000</td>\n      <td>1.000000</td>\n      <td>2.000000</td>\n      <td>4.000000</td>\n      <td>47.000000</td>\n    </tr>\n    <tr>\n      <th>75%</th>\n      <td>70.000000</td>\n      <td>3.000000</td>\n      <td>4.000000</td>\n      <td>5.000000</td>\n      <td>11.000000</td>\n      <td>66.000000</td>\n    </tr>\n    <tr>\n      <th>max</th>\n      <td>86.000000</td>\n      <td>39.000000</td>\n      <td>41.000000</td>\n      <td>33.000000</td>\n      <td>113.000000</td>\n      <td>77.000000</td>\n    </tr>\n  </tbody>\n</table>\n</div>"
     },
     "execution_count": 14,
     "metadata": {},
     "output_type": "execute_result"
    }
   ],
   "source": [
    "medal_count.describe()"
   ],
   "metadata": {
    "collapsed": false,
    "ExecuteTime": {
     "end_time": "2023-09-13T21:38:17.992189300Z",
     "start_time": "2023-09-13T21:38:17.935540700Z"
    }
   },
   "id": "8b840d25b4e6f4f6"
  },
  {
   "cell_type": "code",
   "execution_count": 21,
   "outputs": [
    {
     "name": "stdout",
     "output_type": "stream",
     "text": [
      "364.4789621318373 49.315100514259\n"
     ]
    }
   ],
   "source": [
    "# Estimates of Variability (Değişkenlik Tahminleri)\n",
    "\n",
    "# Standard Deviation (Standart Sapma): Veri setindeki değerlerin ne kadar değişken olduğunu gösterir. Aykırı değerlerden etkilenir.\n",
    "\n",
    "# Range: Veri setindeki en büyük ve en küçük değer arasındaki farktır. Aykırı değerlerden etkilenir.\n",
    "\n",
    "from statistics import variance, stdev\n",
    "variance_total = variance(medal_count['Total'])\n",
    "variance_gold = variance(medal_count['Gold'])\n",
    "print(variance_total, variance_gold)"
   ],
   "metadata": {
    "collapsed": false,
    "ExecuteTime": {
     "end_time": "2023-09-13T21:42:36.861516Z",
     "start_time": "2023-09-13T21:42:36.849491600Z"
    }
   },
   "id": "1b7e17b11dd3d2e4"
  }
 ],
 "metadata": {
  "kernelspec": {
   "display_name": "Python 3",
   "language": "python",
   "name": "python3"
  },
  "language_info": {
   "codemirror_mode": {
    "name": "ipython",
    "version": 2
   },
   "file_extension": ".py",
   "mimetype": "text/x-python",
   "name": "python",
   "nbconvert_exporter": "python",
   "pygments_lexer": "ipython2",
   "version": "2.7.6"
  }
 },
 "nbformat": 4,
 "nbformat_minor": 5
}
